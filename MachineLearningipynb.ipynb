{
 "cells": [
  {
   "attachments": {},
   "cell_type": "markdown",
   "metadata": {},
   "source": [
    "Chicos porfa revisen que está mal en el código, porque me sale error de columnas cuando existen\n",
    "y antes de eso me tomó la vida entender por que no multiplicaba las matrices,\n",
    "este codigo lo que hace es tomar dos archivos csv, uno que es rating que es la union de todos los csv\n",
    "y el otro es peliculas que es el mismo que ustedes tenian ya hecho, basicamente hace multiplicación de matrices el codigo\n",
    "para generar un patron de reconocimiento de peliculas, les dejo el enlace aca tambien del youtube donde saque"
   ]
  },
  {
   "attachments": {},
   "cell_type": "markdown",
   "metadata": {},
   "source": [
    "https://www.youtube.com/watch?v=etD6VeGvlZU&t=472s"
   ]
  },
  {
   "cell_type": "code",
   "execution_count": 1,
   "metadata": {},
   "outputs": [],
   "source": [
    "import pandas as pd\n",
    "from math import sqrt\n",
    "import numpy as np\n",
    "\n",
    "peliculas = pd.read_csv('datasets_norm/registros_peliculas.csv', encoding='utf-8')\n",
    "\n",
    "# Se descargan los archivos csv para análisis de machine learning\n",
    "\n",
    "dfCsv1 = pd.read_csv('ratings/1.csv', encoding='utf-8')\n",
    "dfCsv2 = pd.read_csv('ratings/2.csv', encoding='utf-8')\n",
    "dfCsv3 = pd.read_csv('ratings/3.csv', encoding='utf-8')\n",
    "dfCsv4 = pd.read_csv('ratings/4.csv', encoding='utf-8')\n",
    "dfCsv5 = pd.read_csv('ratings/5.csv', encoding='utf-8')\n",
    "dfCsv6 = pd.read_csv('ratings/6.csv', encoding='utf-8')\n",
    "dfCsv7 = pd.read_csv('ratings/7.csv', encoding='utf-8')\n",
    "dfCsv8 = pd.read_csv('ratings/8.csv', encoding='utf-8')"
   ]
  },
  {
   "cell_type": "code",
   "execution_count": 3,
   "metadata": {},
   "outputs": [],
   "source": [
    "# Uno los csv que contienen los rating\n",
    "\n",
    "rating = pd.concat([dfCsv1, dfCsv2, dfCsv3, dfCsv4, dfCsv5, dfCsv6, dfCsv7, dfCsv8], ignore_index=True)\n",
    "\n",
    "# Ahora vamos a dividir los valores de la columna de géneros en una lista de géneros para simplificar el uso futuro\n",
    "peliculas['genero'] = peliculas['listed_in'].str.split(',')\n",
    "\n",
    "for index, row in peliculas.iterrows():\n",
    "    if isinstance(row['listed_in'], list):\n",
    "        for genero in row['listed_in']:\n",
    "            peliculas.at[index, genero] = 1\n",
    "\n",
    "peliculas = peliculas.fillna(0)\n",
    "\n",
    "# Eliminamos columnas innecesarias\n",
    "if 'timestamp' in rating.columns:\n",
    "    rating = rating.drop('timestamp', axis=1)\n",
    "\n",
    "# Creo un Perfil aleatorio de usuario para entrenamiento de datos\n",
    "userId_0 = {\n",
    "    'title': ['the amazing race', 'man from del rio', 'van helsing', 'love, rosie', 'the big show', 'timbertown', 'bethany hamilton: unstoppable', 'the gathering', 'set up', 'lovely'],\n",
    "    'rating': [5, 3.5, 5, 2, 2, 4, 0, 0, 0, 0]\n",
    "}\n",
    "\n",
    "entrada_peli = pd.DataFrame(userId_0)\n",
    "\n"
   ]
  },
  {
   "cell_type": "code",
   "execution_count": 4,
   "metadata": {},
   "outputs": [],
   "source": [
    "# Ahora vamos a agregarle identificación a cada película que ingresó el usuario y eso lo haremos filtrando las filas que\n",
    "# contienen el título de la película y luego fusionando con nuestra matriz de películas originales.\n",
    "Id = peliculas[peliculas['title'].isin(entrada_peli['title'].tolist())]  # Filtramos\n",
    "entrada_peli = pd.merge(Id, entrada_peli, on='title')  # Fusionamos las matrices\n",
    "\n",
    "# Eliminamos información innecesaria\n",
    "columns_to_drop = ['listed_in', 'release_year']\n",
    "entrada_peli = entrada_peli.drop(columns_to_drop, axis=1)\n",
    "\n",
    "# Ahora vamos a codificar las películas del usuario, para asignar los géneros por medio del método One Hot Encoder\n",
    "peli_usuario = peliculas[peliculas['show_id'].isin(entrada_peli['show_id'].tolist())]\n",
    "\n",
    "# Seguimos limpiando información innecesaria\n",
    "peli_usuario = peli_usuario.reset_index(drop=True)\n",
    "columns_to_drop = ['show_id', 'title']\n",
    "\n",
    "\n"
   ]
  },
  {
   "cell_type": "code",
   "execution_count": 5,
   "metadata": {},
   "outputs": [],
   "source": [
    "# Seguimos limpiando información innecesaria\n",
    "peli_usuario = peli_usuario.reset_index(drop=True)\n",
    "\n",
    "columns_to_drop = ['show_id', 'title', 'listed_in', 'release_year']\n",
    "\n",
    "tabla_generos = peli_usuario.drop(columns_to_drop, axis=1)"
   ]
  },
  {
   "cell_type": "code",
   "execution_count": 6,
   "metadata": {},
   "outputs": [
    {
     "name": "stdout",
     "output_type": "stream",
     "text": [
      "(10, 12)\n"
     ]
    },
    {
     "ename": "TypeError",
     "evalue": "can't multiply sequence by non-int of type 'float'",
     "output_type": "error",
     "traceback": [
      "\u001b[1;31m---------------------------------------------------------------------------\u001b[0m",
      "\u001b[1;31mTypeError\u001b[0m                                 Traceback (most recent call last)",
      "Cell \u001b[1;32mIn[6], line 14\u001b[0m\n\u001b[0;32m     11\u001b[0m \u001b[39mprint\u001b[39m(tabla_generos\u001b[39m.\u001b[39mtranspose()\u001b[39m.\u001b[39mshape)  \u001b[39m# Debe ser compatible con la forma de entrada_peli['rating_y']\u001b[39;00m\n\u001b[0;32m     13\u001b[0m \u001b[39m# Realizar la modelación de datos\u001b[39;00m\n\u001b[1;32m---> 14\u001b[0m perfil_usu \u001b[39m=\u001b[39m np\u001b[39m.\u001b[39;49mmatmul(tabla_generos\u001b[39m.\u001b[39;49mtranspose()\u001b[39m.\u001b[39;49mvalues, entrada_peli[\u001b[39m'\u001b[39;49m\u001b[39mrating_y\u001b[39;49m\u001b[39m'\u001b[39;49m]\u001b[39m.\u001b[39;49mvalues)\n",
      "\u001b[1;31mTypeError\u001b[0m: can't multiply sequence by non-int of type 'float'"
     ]
    }
   ],
   "source": [
    "# Convertir la columna 'rating_y' a valores numéricos\n",
    "entrada_peli['rating_y'] = pd.to_numeric(entrada_peli['rating_y'], errors='coerce')\n",
    "\n",
    "# Llenar los valores no válidos con cero\n",
    "entrada_peli['rating_y'] = entrada_peli['rating_y'].fillna(0)\n",
    "\n",
    "# Convertir la columna 'rating_y' a tipo float\n",
    "entrada_peli['rating_y'] = entrada_peli['rating_y'].astype(float)\n",
    "\n",
    "# Verificar las dimensiones de las matrices\n",
    "print(tabla_generos.transpose().shape)  # Debe ser compatible con la forma de entrada_peli['rating_y']\n",
    "\n",
    "# Realizar la modelación de datos\n",
    "perfil_usu = np.matmul(tabla_generos.transpose().values, entrada_peli['rating_y'].values)\n"
   ]
  },
  {
   "cell_type": "code",
   "execution_count": null,
   "metadata": {},
   "outputs": [],
   "source": [
    "# Ahora vamos a extraer los géneros de la tabla original\n",
    "generos = peliculas.set_index('show_id')\n",
    "\n",
    "##### Mostramos la información necesaria\n",
    "columns_to_drop = ['title', 'listed_in', 'release_year']\n",
    "generos = generos.drop(columns_to_drop, axis=1)\n",
    "\n",
    "# Ahora realizamos el promedio ponderado para recomendar las 20 películas que hayan en nuestra base de datos\n",
    "recom = ((generos * perfil_usu).sum(axis=1) / perfil_usu.sum())\n",
    "\n",
    "# Ordenamos las recomendaciones en orden descendente\n",
    "recom = recom.sort_values(ascending=False)\n",
    "\n",
    "# Tabla de recomendación final\n",
    "final = peliculas[peliculas['show_id'].isin(recom.head(20).keys())]\n",
    "nfinal = final['title']"
   ]
  },
  {
   "cell_type": "code",
   "execution_count": 86,
   "metadata": {},
   "outputs": [
    {
     "ename": "KeyError",
     "evalue": "'rating_y'",
     "output_type": "error",
     "traceback": [
      "\u001b[1;31m---------------------------------------------------------------------------\u001b[0m",
      "\u001b[1;31mKeyError\u001b[0m                                  Traceback (most recent call last)",
      "File \u001b[1;32m~\\AppData\\Local\\Packages\\PythonSoftwareFoundation.Python.3.10_qbz5n2kfra8p0\\LocalCache\\local-packages\\Python310\\site-packages\\pandas\\core\\indexes\\base.py:3652\u001b[0m, in \u001b[0;36mIndex.get_loc\u001b[1;34m(self, key)\u001b[0m\n\u001b[0;32m   3651\u001b[0m \u001b[39mtry\u001b[39;00m:\n\u001b[1;32m-> 3652\u001b[0m     \u001b[39mreturn\u001b[39;00m \u001b[39mself\u001b[39;49m\u001b[39m.\u001b[39;49m_engine\u001b[39m.\u001b[39;49mget_loc(casted_key)\n\u001b[0;32m   3653\u001b[0m \u001b[39mexcept\u001b[39;00m \u001b[39mKeyError\u001b[39;00m \u001b[39mas\u001b[39;00m err:\n",
      "File \u001b[1;32m~\\AppData\\Local\\Packages\\PythonSoftwareFoundation.Python.3.10_qbz5n2kfra8p0\\LocalCache\\local-packages\\Python310\\site-packages\\pandas\\_libs\\index.pyx:147\u001b[0m, in \u001b[0;36mpandas._libs.index.IndexEngine.get_loc\u001b[1;34m()\u001b[0m\n",
      "File \u001b[1;32m~\\AppData\\Local\\Packages\\PythonSoftwareFoundation.Python.3.10_qbz5n2kfra8p0\\LocalCache\\local-packages\\Python310\\site-packages\\pandas\\_libs\\index.pyx:176\u001b[0m, in \u001b[0;36mpandas._libs.index.IndexEngine.get_loc\u001b[1;34m()\u001b[0m\n",
      "File \u001b[1;32mpandas\\_libs\\hashtable_class_helper.pxi:7080\u001b[0m, in \u001b[0;36mpandas._libs.hashtable.PyObjectHashTable.get_item\u001b[1;34m()\u001b[0m\n",
      "File \u001b[1;32mpandas\\_libs\\hashtable_class_helper.pxi:7088\u001b[0m, in \u001b[0;36mpandas._libs.hashtable.PyObjectHashTable.get_item\u001b[1;34m()\u001b[0m\n",
      "\u001b[1;31mKeyError\u001b[0m: 'rating_y'",
      "\nThe above exception was the direct cause of the following exception:\n",
      "\u001b[1;31mKeyError\u001b[0m                                  Traceback (most recent call last)",
      "Cell \u001b[1;32mIn[86], line 1\u001b[0m\n\u001b[1;32m----> 1\u001b[0m \u001b[39mprint\u001b[39m(\u001b[39mtype\u001b[39m(entrada_peli[\u001b[39m'\u001b[39;49m\u001b[39mrating_y\u001b[39;49m\u001b[39m'\u001b[39;49m]))\n",
      "File \u001b[1;32m~\\AppData\\Local\\Packages\\PythonSoftwareFoundation.Python.3.10_qbz5n2kfra8p0\\LocalCache\\local-packages\\Python310\\site-packages\\pandas\\core\\frame.py:3760\u001b[0m, in \u001b[0;36mDataFrame.__getitem__\u001b[1;34m(self, key)\u001b[0m\n\u001b[0;32m   3758\u001b[0m \u001b[39mif\u001b[39;00m \u001b[39mself\u001b[39m\u001b[39m.\u001b[39mcolumns\u001b[39m.\u001b[39mnlevels \u001b[39m>\u001b[39m \u001b[39m1\u001b[39m:\n\u001b[0;32m   3759\u001b[0m     \u001b[39mreturn\u001b[39;00m \u001b[39mself\u001b[39m\u001b[39m.\u001b[39m_getitem_multilevel(key)\n\u001b[1;32m-> 3760\u001b[0m indexer \u001b[39m=\u001b[39m \u001b[39mself\u001b[39;49m\u001b[39m.\u001b[39;49mcolumns\u001b[39m.\u001b[39;49mget_loc(key)\n\u001b[0;32m   3761\u001b[0m \u001b[39mif\u001b[39;00m is_integer(indexer):\n\u001b[0;32m   3762\u001b[0m     indexer \u001b[39m=\u001b[39m [indexer]\n",
      "File \u001b[1;32m~\\AppData\\Local\\Packages\\PythonSoftwareFoundation.Python.3.10_qbz5n2kfra8p0\\LocalCache\\local-packages\\Python310\\site-packages\\pandas\\core\\indexes\\base.py:3654\u001b[0m, in \u001b[0;36mIndex.get_loc\u001b[1;34m(self, key)\u001b[0m\n\u001b[0;32m   3652\u001b[0m     \u001b[39mreturn\u001b[39;00m \u001b[39mself\u001b[39m\u001b[39m.\u001b[39m_engine\u001b[39m.\u001b[39mget_loc(casted_key)\n\u001b[0;32m   3653\u001b[0m \u001b[39mexcept\u001b[39;00m \u001b[39mKeyError\u001b[39;00m \u001b[39mas\u001b[39;00m err:\n\u001b[1;32m-> 3654\u001b[0m     \u001b[39mraise\u001b[39;00m \u001b[39mKeyError\u001b[39;00m(key) \u001b[39mfrom\u001b[39;00m \u001b[39merr\u001b[39;00m\n\u001b[0;32m   3655\u001b[0m \u001b[39mexcept\u001b[39;00m \u001b[39mTypeError\u001b[39;00m:\n\u001b[0;32m   3656\u001b[0m     \u001b[39m# If we have a listlike key, _check_indexing_error will raise\u001b[39;00m\n\u001b[0;32m   3657\u001b[0m     \u001b[39m#  InvalidIndexError. Otherwise we fall through and re-raise\u001b[39;00m\n\u001b[0;32m   3658\u001b[0m     \u001b[39m#  the TypeError.\u001b[39;00m\n\u001b[0;32m   3659\u001b[0m     \u001b[39mself\u001b[39m\u001b[39m.\u001b[39m_check_indexing_error(key)\n",
      "\u001b[1;31mKeyError\u001b[0m: 'rating_y'"
     ]
    }
   ],
   "source": [
    "print(type(entrada_peli['rating_y']))\n"
   ]
  }
 ],
 "metadata": {
  "kernelspec": {
   "display_name": "Python 3",
   "language": "python",
   "name": "python3"
  },
  "language_info": {
   "codemirror_mode": {
    "name": "ipython",
    "version": 3
   },
   "file_extension": ".py",
   "mimetype": "text/x-python",
   "name": "python",
   "nbconvert_exporter": "python",
   "pygments_lexer": "ipython3",
   "version": "3.10.11"
  },
  "orig_nbformat": 4
 },
 "nbformat": 4,
 "nbformat_minor": 2
}
