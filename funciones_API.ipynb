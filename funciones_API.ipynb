{
 "cells": [
  {
   "cell_type": "code",
   "execution_count": 1,
   "metadata": {},
   "outputs": [],
   "source": [
    "import pandas as pd"
   ]
  },
  {
   "cell_type": "code",
   "execution_count": 2,
   "metadata": {},
   "outputs": [],
   "source": [
    "df = pd.read_csv('datasets_norm//registros_peliculas.csv',encoding = 'utf-8')"
   ]
  },
  {
   "attachments": {},
   "cell_type": "markdown",
   "metadata": {},
   "source": [
    "La primera funcion busca la pelicula o peliculas que tengan la mayor duracion por anio y plataforma."
   ]
  },
  {
   "cell_type": "code",
   "execution_count": null,
   "metadata": {},
   "outputs": [],
   "source": [
    "def get_max_duration(year, platform):\n",
    "    year = year\n",
    "    platform = platform.lower()\n",
    "    \n",
    "    # Filtrar el DataFrame por año, plataforma y tipo\n",
    "    filtered_df = df[(df['type'] == 'movie') & (df['release_year'] == year) & (df['show_id'].str[0] == platform[0])]\n",
    "    \n",
    "    # Obtener la duracion mas grande de una pelicula de ese anio\n",
    "    max_duration = filtered_df['duration_int'].max()\n",
    "    \n",
    "    # Y luego buscar si hay mas de una con la misma duracion\n",
    "    movies_same_duration = filtered_df[filtered_df['duration_int'] == max_duration]['title']\n",
    "\n",
    "    return movies_same_duration.values"
   ]
  },
  {
   "cell_type": "code",
   "execution_count": null,
   "metadata": {},
   "outputs": [],
   "source": [
    "pelicula = get_max_duration(2000, 'Disney')\n",
    "pelicula"
   ]
  },
  {
   "attachments": {},
   "cell_type": "markdown",
   "metadata": {},
   "source": [
    "Esta funcion devuelve la cantidad de peliculas con la puntuacion XX, filtrado por anio y plataforma."
   ]
  },
  {
   "cell_type": "code",
   "execution_count": null,
   "metadata": {},
   "outputs": [],
   "source": [
    "def get_score_count(platform, scored, year):\n",
    "    platform = platform.lower()\n",
    "    # Filtrar el DataFrame por plataforma, puntaje y año\n",
    "    filtered_df = df[(df['type'] == 'movie') & (df['show_id'].str[0] == platform[0]) & (df['punctuation'] > scored) & (df['release_year'] == year)]\n",
    "\n",
    "    #Obtener el total de películas que cumplen los criterios de filtrado\n",
    "    count = filtered_df.shape[0]\n",
    "\n",
    "    return count"
   ]
  },
  {
   "cell_type": "code",
   "execution_count": null,
   "metadata": {},
   "outputs": [],
   "source": [
    "peliculas2 = get_score_count('Disney', 2, 2011)\n",
    "peliculas2"
   ]
  },
  {
   "attachments": {},
   "cell_type": "markdown",
   "metadata": {},
   "source": [
    "Esta funcion devuelve la cantidad de peliculas por plataforma."
   ]
  },
  {
   "cell_type": "code",
   "execution_count": null,
   "metadata": {},
   "outputs": [],
   "source": [
    "def get_count_platform(platform):\n",
    "    platform = platform.lower()\n",
    "    # Filtrar el DataFrame por plataforma y tipo de contenido 'Movie'\n",
    "    filtered_df = df[(df['type'] == 'movie') & (df['show_id'].str[0] == platform[0])]\n",
    "\n",
    "    #Obtener el número total de películas de la plataforma especificada\n",
    "    count = filtered_df.shape[0]\n",
    "\n",
    "    return count"
   ]
  },
  {
   "cell_type": "code",
   "execution_count": null,
   "metadata": {},
   "outputs": [],
   "source": [
    "peliculas3 = get_count_platform('Netflix')\n",
    "peliculas3"
   ]
  },
  {
   "cell_type": "code",
   "execution_count": null,
   "metadata": {},
   "outputs": [],
   "source": [
    "def get_actor(platform, year):\n",
    "    platform = platform.lower()\n",
    "    # Filtrar el DataFrame por plataforma y año, y eliminar registros con valores nulos en la columna 'cast'\n",
    "    filtered_df = df[(df['show_id'].str[0] == platform[0]) & (df['release_year'] == year) & (~df['cast'].isnull())]\n",
    "\n",
    "#Crear una nueva columna 'cast_individual' con los valores individuales de actores\n",
    "    filtered_df['cast_individual'] = filtered_df['cast'].apply(lambda x: x.split(',')[0].strip() if ',' in x else x.strip())\n",
    "\n",
    "#Obtener el actor que más se repite\n",
    "    actor_counts = filtered_df['cast_individual'].value_counts()\n",
    "    most_common_actor = actor_counts.index[0]\n",
    "\n",
    "    return most_common_actor"
   ]
  },
  {
   "cell_type": "code",
   "execution_count": null,
   "metadata": {},
   "outputs": [],
   "source": [
    "actor = get_actor('Amazon',2002)\n",
    "actor"
   ]
  },
  {
   "cell_type": "code",
   "execution_count": 115,
   "metadata": {},
   "outputs": [],
   "source": [
    "def prod_per_county(tipo, pais, anio):\n",
    "    # Filtrar el DataFrame por tipo de contenido, país y año\n",
    "    filtered_df = df[(df['type'] == tipo) & (df['country'] == pais) & (df['release_year'] == anio)]\n",
    "\n",
    "#Obtener la cantidad de contenido\n",
    "    cantidad_contenido = len(filtered_df)\n",
    "\n",
    "#Crear el diccionario de resultados\n",
    "    resultado = {\n",
    "        'pais': pais,\n",
    "        'anio': anio,\n",
    "        'tipo': tipo,\n",
    "        'cantidad_contenido': cantidad_contenido\n",
    "    }\n",
    "\n",
    "    return resultado"
   ]
  },
  {
   "cell_type": "code",
   "execution_count": 120,
   "metadata": {},
   "outputs": [
    {
     "data": {
      "text/plain": [
       "{'pais': 'canada', 'anio': 2010, 'tipo': 'movie', 'cantidad_contenido': 4}"
      ]
     },
     "execution_count": 120,
     "metadata": {},
     "output_type": "execute_result"
    }
   ],
   "source": [
    "prod_per_county('movie','canada', 2010)"
   ]
  },
  {
   "cell_type": "code",
   "execution_count": 121,
   "metadata": {},
   "outputs": [],
   "source": [
    "def get_contents(rating):\n",
    "    # Filtrar el DataFrame por el rating de audiencia\n",
    "    filtered_df = df[df['rating'] == rating]\n",
    "\n",
    "#Obtener el número total de contenido\n",
    "    total_contents = len(filtered_df)\n",
    "\n",
    "    return total_contents"
   ]
  },
  {
   "cell_type": "code",
   "execution_count": 127,
   "metadata": {},
   "outputs": [
    {
     "data": {
      "text/plain": [
       "304"
      ]
     },
     "execution_count": 127,
     "metadata": {},
     "output_type": "execute_result"
    }
   ],
   "source": [
    "get_contents('nr')"
   ]
  },
  {
   "cell_type": "code",
   "execution_count": 7,
   "metadata": {},
   "outputs": [],
   "source": [
    "#Función para asignar las etiquetas de plataforma\n",
    "def asignar_plataforma(row):\n",
    "    if row['show_id'].startswith('a'):\n",
    "        return 'amazon'\n",
    "    elif row['show_id'].startswith('d'):\n",
    "        return 'disney'\n",
    "    elif row['show_id'].startswith('h'):\n",
    "        return 'hulu title'\n",
    "    elif row['show_id'].startswith('n'):\n",
    "        return 'netflix'"
   ]
  },
  {
   "cell_type": "code",
   "execution_count": 8,
   "metadata": {},
   "outputs": [],
   "source": [
    "#Aplicar la función y generar la columna \"plataforma\"\n",
    "df['plataforma'] = df.apply(asignar_plataforma, axis=1)\n",
    "\n",
    "#Guardar el resultado en un archivo CSV\n",
    "df.to_csv('datasets_norm/registros_peliculas.csv', index=False)"
   ]
  }
 ],
 "metadata": {
  "kernelspec": {
   "display_name": "Python 3",
   "language": "python",
   "name": "python3"
  },
  "language_info": {
   "codemirror_mode": {
    "name": "ipython",
    "version": 3
   },
   "file_extension": ".py",
   "mimetype": "text/x-python",
   "name": "python",
   "nbconvert_exporter": "python",
   "pygments_lexer": "ipython3",
   "version": "3.11.3"
  },
  "orig_nbformat": 4
 },
 "nbformat": 4,
 "nbformat_minor": 2
}
