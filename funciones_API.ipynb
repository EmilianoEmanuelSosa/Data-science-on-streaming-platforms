{
 "cells": [
  {
   "cell_type": "code",
   "execution_count": 1,
   "metadata": {},
   "outputs": [],
   "source": [
    "import pandas as pd"
   ]
  },
  {
   "cell_type": "code",
   "execution_count": 2,
   "metadata": {},
   "outputs": [],
   "source": [
    "df = pd.read_csv('datasets_norm//registros_peliculas.csv',encoding = 'utf-8')"
   ]
  },
  {
   "cell_type": "code",
   "execution_count": 51,
   "metadata": {},
   "outputs": [],
   "source": [
    "def get_max_duration(year, platform):\n",
    "    year = year\n",
    "    platform = platform.lower()\n",
    "    \n",
    "    # Filtrar el DataFrame por año, plataforma y tipo\n",
    "    filtered_df = df[(df['type'] == 'movie') & (df['release_year'] == year) & (df['show_id'].str[0] == platform[0])]\n",
    "    \n",
    "    # Obtener la duracion mas grande de una pelicula de ese anio\n",
    "    max_duration = filtered_df['duration_int'].max()\n",
    "    \n",
    "    # Y luego buscar si hay mas de una con la misma duracion\n",
    "    movies_same_duration = filtered_df[filtered_df['duration_int'] == max_duration]['title']\n",
    "\n",
    "    return movies_same_duration.values"
   ]
  },
  {
   "cell_type": "code",
   "execution_count": 54,
   "metadata": {},
   "outputs": [
    {
     "data": {
      "text/plain": [
       "array(['remember the titans'], dtype=object)"
      ]
     },
     "execution_count": 54,
     "metadata": {},
     "output_type": "execute_result"
    }
   ],
   "source": [
    "pelicula = get_max_duration(2000, 'Disney')\n",
    "pelicula"
   ]
  },
  {
   "cell_type": "code",
   "execution_count": null,
   "metadata": {},
   "outputs": [],
   "source": []
  }
 ],
 "metadata": {
  "kernelspec": {
   "display_name": "Python 3",
   "language": "python",
   "name": "python3"
  },
  "language_info": {
   "codemirror_mode": {
    "name": "ipython",
    "version": 3
   },
   "file_extension": ".py",
   "mimetype": "text/x-python",
   "name": "python",
   "nbconvert_exporter": "python",
   "pygments_lexer": "ipython3",
   "version": "3.11.3"
  },
  "orig_nbformat": 4
 },
 "nbformat": 4,
 "nbformat_minor": 2
}
