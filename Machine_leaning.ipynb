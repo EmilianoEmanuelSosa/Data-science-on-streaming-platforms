{
 "cells": [
  {
   "cell_type": "code",
   "execution_count": null,
   "metadata": {},
   "outputs": [],
   "source": [
    "import pandas as pd\n",
    "from sklearn.metrics.pairwise import cosine_similarity\n",
    "from sklearn.feature_extraction.text import CountVectorizer"
   ]
  },
  {
   "cell_type": "code",
   "execution_count": null,
   "metadata": {},
   "outputs": [],
   "source": [
    "df = pd.read_csv('datasets_norm/registros_peliculas.csv', encoding = 'utf-8')"
   ]
  },
  {
   "cell_type": "code",
   "execution_count": null,
   "metadata": {},
   "outputs": [],
   "source": [
    "def get_recommendation(titulo_pelicula, tipo_contenido):\n",
    "    # Filtrar el DataFrame por el tipo de contenido\n",
    "    df_tipo = df[df['type'] == tipo_contenido]\n",
    "    \n",
    "    # Obtener el índice de la película de entrada\n",
    "    indice_pelicula = df_tipo[df_tipo['title'] == titulo_pelicula].index[0]\n",
    "    \n",
    "    # Combinar las columnas \"rating\" y \"listed_in\" en una sola columna de texto\n",
    "    df_tipo['combined'] = df_tipo['rating'] + ', ' + df_tipo['listed_in']\n",
    "    \n",
    "    # Inicializar y ajustar el vectorizador de conteo de palabras\n",
    "    vectorizer = CountVectorizer(tokenizer=lambda x: x.split(', '))\n",
    "    combined_matrix = vectorizer.fit_transform(df_tipo['combined'])\n",
    "    \n",
    "    # Calcular la similitud de coseno entre el rating y las categorías de la película de entrada y todas las demás películas del mismo tipo\n",
    "    similarities = cosine_similarity(combined_matrix)\n",
    "    \n",
    "    # Obtener las similitudes de la película de entrada con las demás películas del mismo tipo\n",
    "    pelicula_similarities = similarities[indice_pelicula]\n",
    "    \n",
    "    # Obtener los índices de las 5 películas más similares (excluyendo la película de entrada)\n",
    "    indices_similares = pelicula_similarities.argsort()[:-6:-1]\n",
    "    \n",
    "    # Obtener los nombres de las 5 películas más similares del mismo tipo\n",
    "    peliculas_similares = df_tipo.iloc[indices_similares]['title'].values.tolist()\n",
    "    \n",
    "    return peliculas_similares"
   ]
  },
  {
   "cell_type": "code",
   "execution_count": null,
   "metadata": {},
   "outputs": [],
   "source": [
    "# Ejemplo de uso\n",
    "pelicula = \"the chronicles of narnia: the lion, the witch and the wardrobe\" # Reemplaza con el título de la película de interés\n",
    "tipo = 'movie'  # Reemplaza con el tipo de contenido ('movie' o 'tv-show')\n",
    "recomendaciones = get_recommendation(pelicula, tipo)\n",
    "print(recomendaciones)"
   ]
  }
 ],
 "metadata": {
  "kernelspec": {
   "display_name": "Python 3",
   "language": "python",
   "name": "python3"
  },
  "language_info": {
   "codemirror_mode": {
    "name": "ipython",
    "version": 3
   },
   "file_extension": ".py",
   "mimetype": "text/x-python",
   "name": "python",
   "nbconvert_exporter": "python",
   "pygments_lexer": "ipython3",
   "version": "3.11.3"
  },
  "orig_nbformat": 4
 },
 "nbformat": 4,
 "nbformat_minor": 2
}
